{
  "nbformat": 4,
  "nbformat_minor": 0,
  "metadata": {
    "colab": {
      "provenance": [],
      "gpuType": "T4"
    },
    "kernelspec": {
      "name": "python3",
      "display_name": "Python 3"
    },
    "language_info": {
      "name": "python"
    },
    "accelerator": "GPU"
  },
  "cells": [
    {
      "cell_type": "code",
      "execution_count": 1,
      "metadata": {
        "colab": {
          "base_uri": "https://localhost:8080/"
        },
        "id": "x2hWihGaRhnM",
        "outputId": "54bfa644-87df-4422-ce4f-e12ce4f87d3b"
      },
      "outputs": [
        {
          "output_type": "stream",
          "name": "stdout",
          "text": [
            "Downloading from https://www.kaggle.com/api/v1/datasets/download/thedagger/pokemon-generation-one?dataset_version_number=1...\n"
          ]
        },
        {
          "output_type": "stream",
          "name": "stderr",
          "text": [
            "100%|██████████| 2.15G/2.15G [00:55<00:00, 41.9MB/s]"
          ]
        },
        {
          "output_type": "stream",
          "name": "stdout",
          "text": [
            "Extracting files...\n"
          ]
        },
        {
          "output_type": "stream",
          "name": "stderr",
          "text": [
            "\n"
          ]
        },
        {
          "output_type": "stream",
          "name": "stdout",
          "text": [
            "Datatset Path :  /root/.cache/kagglehub/datasets/thedagger/pokemon-generation-one/versions/1\n"
          ]
        }
      ],
      "source": [
        "#Kaggle Dataset : \"thedagger/pokemon-generation-one\"\n",
        "import kagglehub\n",
        "path = kagglehub.dataset_download(\"thedagger/pokemon-generation-one\")\n",
        "\n",
        "print(\"Datatset Path : \", path)"
      ]
    },
    {
      "cell_type": "code",
      "source": [
        "!ls /root/.cache/kagglehub/datasets/thedagger/pokemon-generation-one/versions/1/dataset"
      ],
      "metadata": {
        "colab": {
          "base_uri": "https://localhost:8080/"
        },
        "id": "jCjBUECCVMQT",
        "outputId": "d6e88f8d-d238-4b9c-c999-86e69cf045a8"
      },
      "execution_count": 5,
      "outputs": [
        {
          "output_type": "stream",
          "name": "stdout",
          "text": [
            "Abra\t    Diglett\tGolbat\t    Kingler    Nidoqueen  Psyduck    Tauros\n",
            "Aerodactyl  Ditto\tGoldeen     Koffing    Nidorina   Raichu     Tentacool\n",
            "Alakazam    Dodrio\tGolduck     Krabby     Nidorino   Rapidash   Tentacruel\n",
            "Arbok\t    Doduo\tGolem\t    Lapras     Ninetales  Raticate   Vaporeon\n",
            "Arcanine    Dragonair\tGraveler    Lickitung  Oddish\t  Rattata    Venomoth\n",
            "Articuno    Dragonite\tGrimer\t    Machamp    Omanyte\t  Rhydon     Venonat\n",
            "Beedrill    Dratini\tGrowlithe   Machoke    Omastar\t  Rhyhorn    Venusaur\n",
            "Bellsprout  Drowzee\tGyarados    Machop     Onix\t  Sandshrew  Victreebel\n",
            "Blastoise   Dugtrio\tHaunter     Magikarp   Paras\t  Sandslash  Vileplume\n",
            "Bulbasaur   Eevee\tHitmonchan  Magmar     Parasect   Scyther    Voltorb\n",
            "Butterfree  Ekans\tHitmonlee   Magnemite  Persian\t  Seadra     Vulpix\n",
            "Caterpie    Electabuzz\tHorsea\t    Magneton   Pidgeot\t  Seaking    Wartortle\n",
            "Chansey     Electrode\tHypno\t    Mankey     Pidgeotto  Seel\t     Weedle\n",
            "Charizard   Exeggcute\tIvysaur     Marowak    Pidgey\t  Shellder   Weepinbell\n",
            "Charmander  Exeggutor\tJigglypuff  Meowth     Pikachu\t  Slowbro    Weezing\n",
            "Charmeleon  Farfetchd\tJolteon     Metapod    Pinsir\t  Slowpoke   Wigglytuff\n",
            "Clefable    Fearow\tJynx\t    Mew        Poliwag\t  Snorlax    Zapdos\n",
            "Clefairy    Flareon\tKabuto\t    Mewtwo     Poliwhirl  Spearow    Zubat\n",
            "Cloyster    Gastly\tKabutops    Moltres    Poliwrath  Squirtle\n",
            "Cubone\t    Gengar\tKadabra     MrMime     Ponyta\t  Starmie\n",
            "dataset     Geodude\tKakuna\t    Muk        Porygon\t  Staryu\n",
            "Dewgong     Gloom\tKangaskhan  Nidoking   Primeape   Tangela\n"
          ]
        }
      ]
    },
    {
      "cell_type": "code",
      "source": [
        "import os\n",
        "from collections import Counter\n",
        "\n",
        "data_dir = \"/root/.cache/kagglehub/datasets/thedagger/pokemon-generation-one/versions/1/dataset\" #Base Kagglee Dataset\n",
        "if not os.path.exists(data_dir):\n",
        "    raise FileNotFoundError(f\"Dataset not found at {data_dir}\")\n",
        "\n",
        "classes = [d for d in os.listdir(data_dir) if os.path.isdir(os.path.join(data_dir, d))]\n",
        "print(f\"Number of classes: {len(classes)}\")\n",
        "\n",
        "class_counts = {}\n",
        "for cls in classes:\n",
        "    class_path = os.path.join(data_dir, cls)\n",
        "    num_images = len([f for f in os.listdir(class_path) if f.lower().endswith(('.png', '.jpg', '.jpeg'))])\n",
        "    class_counts[cls] = num_images\n",
        "\n",
        "print(\"\\nSample class distribution:\")\n",
        "for cls, count in list(class_counts.items()):\n",
        "    print(f\"{cls}: {count} images\")\n",
        "\n",
        "total_images = sum(class_counts.values())\n",
        "print(f\"\\nTotal images in dataset: {total_images}\")"
      ],
      "metadata": {
        "colab": {
          "base_uri": "https://localhost:8080/"
        },
        "id": "l48y7z9GT7Eo",
        "outputId": "b1649e62-dd1d-431d-a43e-5dbb59ef9cf0"
      },
      "execution_count": 8,
      "outputs": [
        {
          "output_type": "stream",
          "name": "stdout",
          "text": [
            "Number of classes: 150\n",
            "\n",
            "Sample class distribution:\n",
            "Krabby: 64 images\n",
            "Tentacool: 57 images\n",
            "Mew: 67 images\n",
            "Fearow: 122 images\n",
            "Pidgeotto: 63 images\n",
            "Magikarp: 59 images\n",
            "Caterpie: 49 images\n",
            "Nidoqueen: 65 images\n",
            "Beedrill: 53 images\n",
            "Hitmonlee: 65 images\n",
            "Gloom: 58 images\n",
            "Ninetales: 74 images\n",
            "Machoke: 51 images\n",
            "Weezing: 63 images\n",
            "Drowzee: 60 images\n",
            "Lapras: 71 images\n",
            "Slowbro: 63 images\n",
            "Clefairy: 60 images\n",
            "Weepinbell: 51 images\n",
            "Geodude: 56 images\n",
            "Hitmonchan: 61 images\n",
            "Jynx: 59 images\n",
            "dataset: 0 images\n",
            "Clefable: 49 images\n",
            "Blastoise: 62 images\n",
            "Farfetchd: 64 images\n",
            "Raticate: 70 images\n",
            "Chansey: 58 images\n",
            "Meowth: 70 images\n",
            "Mankey: 72 images\n",
            "Metapod: 65 images\n",
            "Pinsir: 63 images\n",
            "Arcanine: 61 images\n",
            "Omanyte: 55 images\n",
            "Butterfree: 66 images\n",
            "Parasect: 53 images\n",
            "Nidorino: 63 images\n",
            "Kingler: 68 images\n",
            "Ivysaur: 53 images\n",
            "Seaking: 65 images\n",
            "Growlithe: 68 images\n",
            "Nidorina: 59 images\n",
            "Poliwrath: 63 images\n",
            "Marowak: 70 images\n",
            "Pikachu: 296 images\n",
            "Vileplume: 67 images\n",
            "Jolteon: 64 images\n",
            "Psyduck: 159 images\n",
            "Rhyhorn: 69 images\n",
            "Electabuzz: 53 images\n",
            "Tauros: 67 images\n",
            "Onix: 64 images\n",
            "Diglett: 51 images\n",
            "Koffing: 65 images\n",
            "Magneton: 58 images\n",
            "Charmeleon: 65 images\n",
            "Poliwhirl: 64 images\n",
            "Mewtwo: 306 images\n",
            "Exeggutor: 68 images\n",
            "Kadabra: 61 images\n",
            "Dragonite: 62 images\n",
            "Rhydon: 59 images\n",
            "Rattata: 67 images\n",
            "Venusaur: 66 images\n",
            "Cloyster: 59 images\n",
            "Flareon: 59 images\n",
            "Kakuna: 67 images\n",
            "Vulpix: 68 images\n",
            "Poliwag: 64 images\n",
            "Eevee: 41 images\n",
            "Tentacruel: 56 images\n",
            "Persian: 57 images\n",
            "Voltorb: 64 images\n",
            "Kangaskhan: 62 images\n",
            "Shellder: 81 images\n",
            "Paras: 55 images\n",
            "Jigglypuff: 65 images\n",
            "Charizard: 52 images\n",
            "Ditto: 48 images\n",
            "Seadra: 67 images\n",
            "Snorlax: 69 images\n",
            "Dodrio: 65 images\n",
            "Kabuto: 56 images\n",
            "Slowpoke: 60 images\n",
            "Haunter: 63 images\n",
            "Charmander: 296 images\n",
            "Alakazam: 49 images\n",
            "Bellsprout: 55 images\n",
            "Wigglytuff: 66 images\n",
            "Magnemite: 60 images\n",
            "Victreebel: 55 images\n",
            "Zapdos: 59 images\n",
            "Articuno: 56 images\n",
            "Zubat: 49 images\n",
            "Gengar: 60 images\n",
            "Spearow: 130 images\n",
            "Lickitung: 67 images\n",
            "Magmar: 59 images\n",
            "Moltres: 62 images\n",
            "Dratini: 109 images\n",
            "Sandshrew: 66 images\n",
            "Venomoth: 65 images\n",
            "Golbat: 67 images\n",
            "Kabutops: 65 images\n",
            "Hypno: 62 images\n",
            "Wartortle: 61 images\n",
            "Primeape: 70 images\n",
            "Graveler: 57 images\n",
            "Dugtrio: 64 images\n",
            "Electrode: 67 images\n",
            "Muk: 70 images\n",
            "Aerodactyl: 97 images\n",
            "Rapidash: 83 images\n",
            "Horsea: 63 images\n",
            "Pidgey: 74 images\n",
            "Squirtle: 279 images\n",
            "Oddish: 66 images\n",
            "Doduo: 48 images\n",
            "Pidgeot: 66 images\n",
            "Dewgong: 66 images\n",
            "Ponyta: 66 images\n",
            "Exeggcute: 57 images\n",
            "Abra: 42 images\n",
            "Scyther: 67 images\n",
            "Bulbasaur: 289 images\n",
            "Nidoking: 68 images\n",
            "Arbok: 63 images\n",
            "Venonat: 56 images\n",
            "Seel: 61 images\n",
            "Tangela: 63 images\n",
            "Goldeen: 58 images\n",
            "Weedle: 59 images\n",
            "Ekans: 51 images\n",
            "Gyarados: 67 images\n",
            "Golem: 64 images\n",
            "Staryu: 60 images\n",
            "Sandslash: 71 images\n",
            "Grimer: 64 images\n",
            "MrMime: 59 images\n",
            "Dragonair: 65 images\n",
            "Raichu: 71 images\n",
            "Gastly: 50 images\n",
            "Cubone: 59 images\n",
            "Machop: 53 images\n",
            "Starmie: 59 images\n",
            "Vaporeon: 68 images\n",
            "Porygon: 55 images\n",
            "Omastar: 56 images\n",
            "Machamp: 71 images\n",
            "Golduck: 60 images\n",
            "\n",
            "Total images in dataset: 10657\n"
          ]
        }
      ]
    },
    {
      "cell_type": "code",
      "source": [
        "import matplotlib.pyplot as plt\n",
        "\n",
        "top_classes = dict(sorted(class_counts.items(), key=lambda x: x[1], reverse=True)[:20])\n",
        "\n",
        "plt.figure(figsize=(12,6))\n",
        "plt.bar(top_classes.keys(), top_classes.values(), color='skyblue')\n",
        "plt.xticks(rotation=45, ha='right')  # rotate class names\n",
        "plt.xlabel('Pokemon Class')\n",
        "plt.ylabel('Number of Images')\n",
        "plt.title('Top 20 Pokemon Classes by Number of Images')\n",
        "plt.tight_layout()\n",
        "plt.show()"
      ],
      "metadata": {
        "colab": {
          "base_uri": "https://localhost:8080/",
          "height": 607
        },
        "id": "LvUmpB_vVC-3",
        "outputId": "a8b5c857-4d6c-40f2-d6f5-693e8cb487a2"
      },
      "execution_count": 12,
      "outputs": [
        {
          "output_type": "display_data",
          "data": {
            "text/plain": [
              "<Figure size 1200x600 with 1 Axes>"
            ],
            "image/png": "[encoded data removed]"
          },
          "metadata": {}
        }
      ]
    },
    {
      "cell_type": "code",
      "source": [
        "#Data Prep\n",
        "import os\n",
        "import numpy as np\n",
        "import torch\n",
        "from torch.utils.data import DataLoader, Dataset, random_split, WeightedRandomSampler\n",
        "from torchvision import datasets, transforms\n",
        "\n",
        "data_dir = \"/root/.cache/kagglehub/datasets/thedagger/pokemon-generation-one/versions/1/dataset\""
      ],
      "metadata": {
        "id": "fslG-oeXVaZv"
      },
      "execution_count": 15,
      "outputs": []
    },
    {
      "cell_type": "code",
      "source": [
        "classes = [d for d in os.listdir(data_dir) if os.path.isdir(os.path.join(data_dir, d))]\n",
        "class_counts = {}\n",
        "\n",
        "for cls in classes:\n",
        "    class_path = os.path.join(data_dir, cls)\n",
        "    num_images = len([f for f in os.listdir(class_path) if f.lower().endswith(('.png','.jpg','.jpeg'))])\n",
        "    if num_images > 0:\n",
        "        class_counts[cls] = num_images\n",
        "\n",
        "print(f\"Number of non-empty classes: {len(class_counts)}\")"
      ],
      "metadata": {
        "colab": {
          "base_uri": "https://localhost:8080/"
        },
        "id": "TwFCLFe1XvQ5",
        "outputId": "7db0751f-3f2c-49c5-da0d-f951ae9e5101"
      },
      "execution_count": 30,
      "outputs": [
        {
          "output_type": "stream",
          "name": "stdout",
          "text": [
            "Number of non-empty classes: 149\n"
          ]
        }
      ]
    },
    {
      "cell_type": "code",
      "source": [
        "train_transform = transforms.Compose([\n",
        "    transforms.RandomResizedCrop(128),\n",
        "    transforms.RandomHorizontalFlip(),\n",
        "    transforms.RandomRotation(20),\n",
        "    transforms.ColorJitter(brightness=0.2, contrast=0.2, saturation=0.2),\n",
        "    transforms.ToTensor(),\n",
        "    transforms.Normalize([0.5,0.5,0.5], [0.5,0.5,0.5])\n",
        "])\n",
        "\n",
        "test_transform = transforms.Compose([\n",
        "    transforms.Resize((128,128)),\n",
        "    transforms.ToTensor(),\n",
        "    transforms.Normalize([0.5,0.5,0.5], [0.5,0.5,0.5])\n",
        "])"
      ],
      "metadata": {
        "id": "VgmDhigkXgXc"
      },
      "execution_count": 31,
      "outputs": []
    },
    {
      "cell_type": "code",
      "source": [
        "full_dataset = datasets.ImageFolder(root=data_dir, transform=train_transform)"
      ],
      "metadata": {
        "id": "0LgXw1GlYd_5"
      },
      "execution_count": 32,
      "outputs": []
    },
    {
      "cell_type": "code",
      "source": [
        "valid_class_names = list(class_counts.keys())\n",
        "\n",
        "# Filter samples\n",
        "filtered_samples = [s for s in full_dataset.samples if full_dataset.classes[s[1]] in valid_class_names]\n",
        "\n",
        "# Rebuild class_to_idx\n",
        "new_class_to_idx = {cls_name: i for i, cls_name in enumerate(valid_class_names)}\n",
        "\n",
        "# Update dataset attributes\n",
        "full_dataset.samples = [(fp, new_class_to_idx[full_dataset.classes[idx]]) for fp, idx in filtered_samples]\n",
        "full_dataset.targets = [s[1] for s in full_dataset.samples]\n",
        "full_dataset.classes = valid_class_names\n",
        "full_dataset.class_to_idx = new_class_to_idx\n",
        "\n",
        "num_classes = len(full_dataset.classes)\n",
        "print(f\"Number of classes after filtering empty folders: {num_classes}\")\n",
        "print(f\"Total images after filtering: {len(full_dataset)}\")"
      ],
      "metadata": {
        "colab": {
          "base_uri": "https://localhost:8080/"
        },
        "id": "JSsk4jyIYLe-",
        "outputId": "738e18fc-4872-426c-d6e4-09508a22cbbf"
      },
      "execution_count": 33,
      "outputs": [
        {
          "output_type": "stream",
          "name": "stdout",
          "text": [
            "Number of classes after filtering empty folders: 149\n",
            "Total images after filtering: 10657\n"
          ]
        }
      ]
    },
    {
      "cell_type": "code",
      "source": [
        "train_size = int(0.8 * len(full_dataset))\n",
        "test_size = len(full_dataset) - train_size\n",
        "train_dataset, test_dataset = random_split(full_dataset, [train_size, test_size])\n",
        "\n",
        "# Apply test transforms to test dataset\n",
        "test_dataset.dataset.transform = test_transform"
      ],
      "metadata": {
        "id": "kV6Rc87oYiMI"
      },
      "execution_count": 34,
      "outputs": []
    },
    {
      "cell_type": "code",
      "source": [
        "train_targets = [full_dataset.targets[i] for i in train_dataset.indices]\n",
        "\n",
        "# Compute counts array for non-empty classes\n",
        "counts_array = np.array([class_counts[cls] for cls in full_dataset.classes])\n",
        "\n",
        "# Sample weights: inverse of class counts\n",
        "samples_weight = [1.0 / counts_array[t] for t in train_targets]\n",
        "\n",
        "sampler = WeightedRandomSampler(weights=samples_weight, num_samples=len(samples_weight), replacement=True)"
      ],
      "metadata": {
        "id": "aWoBtKGJYj9A"
      },
      "execution_count": 35,
      "outputs": []
    },
    {
      "cell_type": "code",
      "source": [
        "batch_size = 32\n",
        "\n",
        "train_loader = DataLoader(train_dataset, batch_size=batch_size, sampler=sampler, num_workers=2)\n",
        "test_loader = DataLoader(test_dataset, batch_size=batch_size, shuffle=False, num_workers=2)\n",
        "\n",
        "print(f\"Train dataset size: {len(train_dataset)}\")\n",
        "print(f\"Test dataset size: {len(test_dataset)}\")"
      ],
      "metadata": {
        "colab": {
          "base_uri": "https://localhost:8080/"
        },
        "id": "CYP4RVL0YlZU",
        "outputId": "085d7bc5-c494-4531-f2ed-b7e498382431"
      },
      "execution_count": 36,
      "outputs": [
        {
          "output_type": "stream",
          "name": "stdout",
          "text": [
            "Train dataset size: 8525\n",
            "Test dataset size: 2132\n"
          ]
        }
      ]
    },
    {
      "cell_type": "code",
      "source": [
        "import torch\n",
        "import torch.nn as nn\n",
        "import torch.nn.functional as F\n",
        "\n",
        "class DeepCNN(nn.Module):\n",
        "    def __init__(self, num_classes=150):\n",
        "        super(DeepCNN, self).__init__()\n",
        "\n",
        "        # --- Convolutional blocks ---\n",
        "        self.conv1 = nn.Sequential(\n",
        "            nn.Conv2d(3, 32, kernel_size=3, padding=1),\n",
        "            nn.BatchNorm2d(32),\n",
        "            nn.ReLU(),\n",
        "            nn.MaxPool2d(2),  # 128x128 -> 64x64\n",
        "            nn.Dropout(0.1)\n",
        "        )\n",
        "\n",
        "        self.conv2 = nn.Sequential(\n",
        "            nn.Conv2d(32, 64, kernel_size=3, padding=1),\n",
        "            nn.BatchNorm2d(64),\n",
        "            nn.ReLU(),\n",
        "            nn.MaxPool2d(2),  # 64x64 -> 32x32\n",
        "            nn.Dropout(0.2)\n",
        "        )\n",
        "\n",
        "        self.conv3 = nn.Sequential(\n",
        "            nn.Conv2d(64, 128, kernel_size=3, padding=1),\n",
        "            nn.BatchNorm2d(128),\n",
        "            nn.ReLU(),\n",
        "            nn.MaxPool2d(2),  # 32x32 -> 16x16\n",
        "            nn.Dropout(0.3)\n",
        "        )\n",
        "\n",
        "        self.conv4 = nn.Sequential(\n",
        "            nn.Conv2d(128, 256, kernel_size=3, padding=1),\n",
        "            nn.BatchNorm2d(256),\n",
        "            nn.ReLU(),\n",
        "            nn.MaxPool2d(2),  # 16x16 -> 8x8\n",
        "            nn.Dropout(0.4)\n",
        "        )\n",
        "\n",
        "        self.conv5 = nn.Sequential(\n",
        "            nn.Conv2d(256, 512, kernel_size=3, padding=1),\n",
        "            nn.BatchNorm2d(512),\n",
        "            nn.ReLU(),\n",
        "            nn.MaxPool2d(2),  # 8x8 -> 4x4\n",
        "            nn.Dropout(0.5)\n",
        "        )\n",
        "\n",
        "        # --- Fully connected layers ---\n",
        "        self.fc1 = nn.Linear(512*4*4, 1024)\n",
        "        self.dropout1 = nn.Dropout(0.5)\n",
        "        self.fc2 = nn.Linear(1024, 512)\n",
        "        self.dropout2 = nn.Dropout(0.5)\n",
        "        self.fc3 = nn.Linear(512, num_classes)\n",
        "\n",
        "    def forward(self, x):\n",
        "        x = self.conv1(x)\n",
        "        x = self.conv2(x)\n",
        "        x = self.conv3(x)\n",
        "        x = self.conv4(x)\n",
        "        x = self.conv5(x)\n",
        "        x = x.view(x.size(0), -1)  # flatten\n",
        "        x = F.relu(self.fc1(x))\n",
        "        x = self.dropout1(x)\n",
        "        x = F.relu(self.fc2(x))\n",
        "        x = self.dropout2(x)\n",
        "        x = self.fc3(x)\n",
        "        return x"
      ],
      "metadata": {
        "id": "3N-JXxHbYnGv"
      },
      "execution_count": 40,
      "outputs": []
    },
    {
      "cell_type": "code",
      "source": [
        "device = torch.device(\"cuda\" if torch.cuda.is_available() else \"cpu\")\n",
        "model = DeepCNN(num_classes=150).to(device)\n",
        "\n",
        "# Loss and optimizer\n",
        "criterion = nn.CrossEntropyLoss()\n",
        "optimizer = torch.optim.Adam(model.parameters(), lr=1e-3)\n",
        "\n",
        "print(model)"
      ],
      "metadata": {
        "colab": {
          "base_uri": "https://localhost:8080/"
        },
        "id": "lZiRZVidZ9pi",
        "outputId": "cbaada23-5549-4e0c-9313-e0c2af98c02e"
      },
      "execution_count": 41,
      "outputs": [
        {
          "output_type": "stream",
          "name": "stdout",
          "text": [
            "DeepCNN(\n",
            "  (conv1): Sequential(\n",
            "    (0): Conv2d(3, 32, kernel_size=(3, 3), stride=(1, 1), padding=(1, 1))\n",
            "    (1): BatchNorm2d(32, eps=1e-05, momentum=0.1, affine=True, track_running_stats=True)\n",
            "    (2): ReLU()\n",
            "    (3): MaxPool2d(kernel_size=2, stride=2, padding=0, dilation=1, ceil_mode=False)\n",
            "    (4): Dropout(p=0.1, inplace=False)\n",
            "  )\n",
            "  (conv2): Sequential(\n",
            "    (0): Conv2d(32, 64, kernel_size=(3, 3), stride=(1, 1), padding=(1, 1))\n",
            "    (1): BatchNorm2d(64, eps=1e-05, momentum=0.1, affine=True, track_running_stats=True)\n",
            "    (2): ReLU()\n",
            "    (3): MaxPool2d(kernel_size=2, stride=2, padding=0, dilation=1, ceil_mode=False)\n",
            "    (4): Dropout(p=0.2, inplace=False)\n",
            "  )\n",
            "  (conv3): Sequential(\n",
            "    (0): Conv2d(64, 128, kernel_size=(3, 3), stride=(1, 1), padding=(1, 1))\n",
            "    (1): BatchNorm2d(128, eps=1e-05, momentum=0.1, affine=True, track_running_stats=True)\n",
            "    (2): ReLU()\n",
            "    (3): MaxPool2d(kernel_size=2, stride=2, padding=0, dilation=1, ceil_mode=False)\n",
            "    (4): Dropout(p=0.3, inplace=False)\n",
            "  )\n",
            "  (conv4): Sequential(\n",
            "    (0): Conv2d(128, 256, kernel_size=(3, 3), stride=(1, 1), padding=(1, 1))\n",
            "    (1): BatchNorm2d(256, eps=1e-05, momentum=0.1, affine=True, track_running_stats=True)\n",
            "    (2): ReLU()\n",
            "    (3): MaxPool2d(kernel_size=2, stride=2, padding=0, dilation=1, ceil_mode=False)\n",
            "    (4): Dropout(p=0.4, inplace=False)\n",
            "  )\n",
            "  (conv5): Sequential(\n",
            "    (0): Conv2d(256, 512, kernel_size=(3, 3), stride=(1, 1), padding=(1, 1))\n",
            "    (1): BatchNorm2d(512, eps=1e-05, momentum=0.1, affine=True, track_running_stats=True)\n",
            "    (2): ReLU()\n",
            "    (3): MaxPool2d(kernel_size=2, stride=2, padding=0, dilation=1, ceil_mode=False)\n",
            "    (4): Dropout(p=0.5, inplace=False)\n",
            "  )\n",
            "  (fc1): Linear(in_features=8192, out_features=1024, bias=True)\n",
            "  (dropout1): Dropout(p=0.5, inplace=False)\n",
            "  (fc2): Linear(in_features=1024, out_features=512, bias=True)\n",
            "  (dropout2): Dropout(p=0.5, inplace=False)\n",
            "  (fc3): Linear(in_features=512, out_features=150, bias=True)\n",
            ")\n"
          ]
        }
      ]
    },
    {
      "cell_type": "code",
      "source": [
        "import torch\n",
        "from torch import nn, optim\n",
        "from sklearn.metrics import f1_score, accuracy_score\n",
        "import copy\n",
        "\n",
        "# -----------------------------\n",
        "# Hyperparameters\n",
        "# -----------------------------\n",
        "num_epochs = 30\n",
        "device = torch.device(\"cuda\" if torch.cuda.is_available() else \"cpu\")\n",
        "\n",
        "# -----------------------------\n",
        "# Training function\n",
        "# -----------------------------\n",
        "def train_model(model, train_loader, val_loader, criterion, optimizer, num_epochs, device):\n",
        "    best_model_wts = copy.deepcopy(model.state_dict())\n",
        "    best_f1 = 0.0\n",
        "\n",
        "    # Logs for plotting later\n",
        "    history = {\n",
        "        \"train_loss\": [],\n",
        "        \"val_loss\": [],\n",
        "        \"train_acc\": [],\n",
        "        \"val_acc\": [],\n",
        "        \"val_f1\": []\n",
        "    }\n",
        "\n",
        "    for epoch in range(num_epochs):\n",
        "        print(f\"\\nEpoch {epoch+1}/{num_epochs}\")\n",
        "        print(\"-\"*30)\n",
        "\n",
        "        # ---- Training Phase ----\n",
        "        model.train()\n",
        "        running_loss = 0.0\n",
        "        all_preds = []\n",
        "        all_labels = []\n",
        "\n",
        "        for images, labels in train_loader:\n",
        "            images, labels = images.to(device), labels.to(device)\n",
        "\n",
        "            optimizer.zero_grad()\n",
        "            outputs = model(images)\n",
        "            loss = criterion(outputs, labels)\n",
        "            loss.backward()\n",
        "            optimizer.step()\n",
        "\n",
        "            running_loss += loss.item() * images.size(0)\n",
        "\n",
        "            preds = torch.argmax(outputs, dim=1)\n",
        "            all_preds.extend(preds.detach().cpu().numpy())\n",
        "            all_labels.extend(labels.detach().cpu().numpy())\n",
        "\n",
        "        epoch_loss = running_loss / len(train_loader.dataset)\n",
        "        epoch_acc = accuracy_score(all_labels, all_preds)\n",
        "\n",
        "        print(f\"Train Loss: {epoch_loss:.4f}, Train Acc: {epoch_acc:.4f}\")\n",
        "        history[\"train_loss\"].append(epoch_loss)\n",
        "        history[\"train_acc\"].append(epoch_acc)\n",
        "\n",
        "        # ---- Validation Phase ----\n",
        "        model.eval()\n",
        "        val_loss = 0.0\n",
        "        val_preds = []\n",
        "        val_labels = []\n",
        "\n",
        "        with torch.no_grad():\n",
        "            for images, labels in val_loader:\n",
        "                images, labels = images.to(device), labels.to(device)\n",
        "                outputs = model(images)\n",
        "                loss = criterion(outputs, labels)\n",
        "                val_loss += loss.item() * images.size(0)\n",
        "\n",
        "                preds = torch.argmax(outputs, dim=1)\n",
        "                val_preds.extend(preds.detach().cpu().numpy())\n",
        "                val_labels.extend(labels.detach().cpu().numpy())\n",
        "\n",
        "        val_epoch_loss = val_loss / len(val_loader.dataset)\n",
        "        val_epoch_acc = accuracy_score(val_labels, val_preds)\n",
        "        val_epoch_f1 = f1_score(val_labels, val_preds, average=\"macro\")\n",
        "\n",
        "        print(f\"Val Loss: {val_epoch_loss:.4f}, Val Acc: {val_epoch_acc:.4f}, Val F1: {val_epoch_f1:.4f}\")\n",
        "        history[\"val_loss\"].append(val_epoch_loss)\n",
        "        history[\"val_acc\"].append(val_epoch_acc)\n",
        "        history[\"val_f1\"].append(val_epoch_f1)\n",
        "\n",
        "        # ---- Save best model ----\n",
        "        if val_epoch_f1 > best_f1:\n",
        "            best_f1 = val_epoch_f1\n",
        "            best_model_wts = copy.deepcopy(model.state_dict())\n",
        "            print(\"Best model updated!\")\n",
        "\n",
        "    # Load best model weights\n",
        "    model.load_state_dict(best_model_wts)\n",
        "    return model, history"
      ],
      "metadata": {
        "id": "xIK5Y2CLaBA0"
      },
      "execution_count": 42,
      "outputs": []
    },
    {
      "cell_type": "code",
      "source": [
        "trained_model, history = train_model(\n",
        "    model=model,\n",
        "    train_loader=train_loader,\n",
        "    val_loader=test_loader,\n",
        "    criterion=criterion,\n",
        "    optimizer=optimizer,\n",
        "    num_epochs=30,\n",
        "    device=device\n",
        ")"
      ],
      "metadata": {
        "colab": {
          "base_uri": "https://localhost:8080/"
        },
        "id": "MwI_kj0Far6I",
        "outputId": "d8730e5c-9e19-4ca3-af51-cacb5f280253"
      },
      "execution_count": 43,
      "outputs": [
        {
          "output_type": "stream",
          "name": "stdout",
          "text": [
            "\n",
            "Epoch 1/30\n",
            "------------------------------\n",
            "Train Loss: 5.0298, Train Acc: 0.0099\n"
          ]
        },
        {
          "output_type": "stream",
          "name": "stderr",
          "text": [
            "/usr/local/lib/python3.12/dist-packages/PIL/Image.py:1047: UserWarning: Palette images with Transparency expressed in bytes should be converted to RGBA images\n",
            "  warnings.warn(\n"
          ]
        },
        {
          "output_type": "stream",
          "name": "stdout",
          "text": [
            "Val Loss: 4.8278, Val Acc: 0.0103, Val F1: 0.0005\n",
            "Best model updated!\n",
            "\n",
            "Epoch 2/30\n",
            "------------------------------\n",
            "Train Loss: 4.8360, Train Acc: 0.0137\n"
          ]
        },
        {
          "output_type": "stream",
          "name": "stderr",
          "text": [
            "/usr/local/lib/python3.12/dist-packages/PIL/Image.py:1047: UserWarning: Palette images with Transparency expressed in bytes should be converted to RGBA images\n",
            "  warnings.warn(\n"
          ]
        },
        {
          "output_type": "stream",
          "name": "stdout",
          "text": [
            "Val Loss: 4.7011, Val Acc: 0.0197, Val F1: 0.0024\n",
            "Best model updated!\n",
            "\n",
            "Epoch 3/30\n",
            "------------------------------\n",
            "Train Loss: 4.7689, Train Acc: 0.0122\n"
          ]
        },
        {
          "output_type": "stream",
          "name": "stderr",
          "text": [
            "/usr/local/lib/python3.12/dist-packages/PIL/Image.py:1047: UserWarning: Palette images with Transparency expressed in bytes should be converted to RGBA images\n",
            "  warnings.warn(\n"
          ]
        },
        {
          "output_type": "stream",
          "name": "stdout",
          "text": [
            "Val Loss: 4.7668, Val Acc: 0.0117, Val F1: 0.0036\n",
            "Best model updated!\n",
            "\n",
            "Epoch 4/30\n",
            "------------------------------\n"
          ]
        },
        {
          "output_type": "stream",
          "name": "stderr",
          "text": [
            "/usr/local/lib/python3.12/dist-packages/PIL/Image.py:1047: UserWarning: Palette images with Transparency expressed in bytes should be converted to RGBA images\n",
            "  warnings.warn(\n"
          ]
        },
        {
          "output_type": "stream",
          "name": "stdout",
          "text": [
            "Train Loss: 4.7245, Train Acc: 0.0144\n"
          ]
        },
        {
          "output_type": "stream",
          "name": "stderr",
          "text": [
            "/usr/local/lib/python3.12/dist-packages/PIL/Image.py:1047: UserWarning: Palette images with Transparency expressed in bytes should be converted to RGBA images\n",
            "  warnings.warn(\n"
          ]
        },
        {
          "output_type": "stream",
          "name": "stdout",
          "text": [
            "Val Loss: 4.6212, Val Acc: 0.0127, Val F1: 0.0019\n",
            "\n",
            "Epoch 5/30\n",
            "------------------------------\n"
          ]
        },
        {
          "output_type": "stream",
          "name": "stderr",
          "text": [
            "/usr/local/lib/python3.12/dist-packages/PIL/Image.py:1047: UserWarning: Palette images with Transparency expressed in bytes should be converted to RGBA images\n",
            "  warnings.warn(\n"
          ]
        },
        {
          "output_type": "stream",
          "name": "stdout",
          "text": [
            "Train Loss: 4.6942, Train Acc: 0.0144\n"
          ]
        },
        {
          "output_type": "stream",
          "name": "stderr",
          "text": [
            "/usr/local/lib/python3.12/dist-packages/PIL/Image.py:1047: UserWarning: Palette images with Transparency expressed in bytes should be converted to RGBA images\n",
            "  warnings.warn(\n"
          ]
        },
        {
          "output_type": "stream",
          "name": "stdout",
          "text": [
            "Val Loss: 4.6143, Val Acc: 0.0141, Val F1: 0.0019\n",
            "\n",
            "Epoch 6/30\n",
            "------------------------------\n",
            "Train Loss: 4.6590, Train Acc: 0.0174\n"
          ]
        },
        {
          "output_type": "stream",
          "name": "stderr",
          "text": [
            "/usr/local/lib/python3.12/dist-packages/PIL/Image.py:1047: UserWarning: Palette images with Transparency expressed in bytes should be converted to RGBA images\n",
            "  warnings.warn(\n"
          ]
        },
        {
          "output_type": "stream",
          "name": "stdout",
          "text": [
            "Val Loss: 4.6021, Val Acc: 0.0164, Val F1: 0.0025\n",
            "\n",
            "Epoch 7/30\n",
            "------------------------------\n",
            "Train Loss: 4.6497, Train Acc: 0.0189\n"
          ]
        },
        {
          "output_type": "stream",
          "name": "stderr",
          "text": [
            "/usr/local/lib/python3.12/dist-packages/PIL/Image.py:1047: UserWarning: Palette images with Transparency expressed in bytes should be converted to RGBA images\n",
            "  warnings.warn(\n"
          ]
        },
        {
          "output_type": "stream",
          "name": "stdout",
          "text": [
            "Val Loss: 4.5564, Val Acc: 0.0155, Val F1: 0.0039\n",
            "Best model updated!\n",
            "\n",
            "Epoch 8/30\n",
            "------------------------------\n"
          ]
        },
        {
          "output_type": "stream",
          "name": "stderr",
          "text": [
            "/usr/local/lib/python3.12/dist-packages/PIL/Image.py:1047: UserWarning: Palette images with Transparency expressed in bytes should be converted to RGBA images\n",
            "  warnings.warn(\n",
            "/usr/local/lib/python3.12/dist-packages/PIL/Image.py:1047: UserWarning: Palette images with Transparency expressed in bytes should be converted to RGBA images\n",
            "  warnings.warn(\n"
          ]
        },
        {
          "output_type": "stream",
          "name": "stdout",
          "text": [
            "Train Loss: 4.6421, Train Acc: 0.0195\n"
          ]
        },
        {
          "output_type": "stream",
          "name": "stderr",
          "text": [
            "/usr/local/lib/python3.12/dist-packages/PIL/Image.py:1047: UserWarning: Palette images with Transparency expressed in bytes should be converted to RGBA images\n",
            "  warnings.warn(\n"
          ]
        },
        {
          "output_type": "stream",
          "name": "stdout",
          "text": [
            "Val Loss: 4.5479, Val Acc: 0.0169, Val F1: 0.0024\n",
            "\n",
            "Epoch 9/30\n",
            "------------------------------\n"
          ]
        },
        {
          "output_type": "stream",
          "name": "stderr",
          "text": [
            "/usr/local/lib/python3.12/dist-packages/PIL/Image.py:1047: UserWarning: Palette images with Transparency expressed in bytes should be converted to RGBA images\n",
            "  warnings.warn(\n"
          ]
        },
        {
          "output_type": "stream",
          "name": "stdout",
          "text": [
            "Train Loss: 4.6143, Train Acc: 0.0183\n"
          ]
        },
        {
          "output_type": "stream",
          "name": "stderr",
          "text": [
            "/usr/local/lib/python3.12/dist-packages/PIL/Image.py:1047: UserWarning: Palette images with Transparency expressed in bytes should be converted to RGBA images\n",
            "  warnings.warn(\n"
          ]
        },
        {
          "output_type": "stream",
          "name": "stdout",
          "text": [
            "Val Loss: 4.4868, Val Acc: 0.0295, Val F1: 0.0065\n",
            "Best model updated!\n",
            "\n",
            "Epoch 10/30\n",
            "------------------------------\n",
            "Train Loss: 4.5714, Train Acc: 0.0215\n"
          ]
        },
        {
          "output_type": "stream",
          "name": "stderr",
          "text": [
            "/usr/local/lib/python3.12/dist-packages/PIL/Image.py:1047: UserWarning: Palette images with Transparency expressed in bytes should be converted to RGBA images\n",
            "  warnings.warn(\n"
          ]
        },
        {
          "output_type": "stream",
          "name": "stdout",
          "text": [
            "Val Loss: 4.4119, Val Acc: 0.0342, Val F1: 0.0063\n",
            "\n",
            "Epoch 11/30\n",
            "------------------------------\n",
            "Train Loss: 4.5459, Train Acc: 0.0211\n"
          ]
        },
        {
          "output_type": "stream",
          "name": "stderr",
          "text": [
            "/usr/local/lib/python3.12/dist-packages/PIL/Image.py:1047: UserWarning: Palette images with Transparency expressed in bytes should be converted to RGBA images\n",
            "  warnings.warn(\n"
          ]
        },
        {
          "output_type": "stream",
          "name": "stdout",
          "text": [
            "Val Loss: 4.4545, Val Acc: 0.0371, Val F1: 0.0107\n",
            "Best model updated!\n",
            "\n",
            "Epoch 12/30\n",
            "------------------------------\n"
          ]
        },
        {
          "output_type": "stream",
          "name": "stderr",
          "text": [
            "/usr/local/lib/python3.12/dist-packages/PIL/Image.py:1047: UserWarning: Palette images with Transparency expressed in bytes should be converted to RGBA images\n",
            "  warnings.warn(\n"
          ]
        },
        {
          "output_type": "stream",
          "name": "stdout",
          "text": [
            "Train Loss: 4.5407, Train Acc: 0.0256\n"
          ]
        },
        {
          "output_type": "stream",
          "name": "stderr",
          "text": [
            "/usr/local/lib/python3.12/dist-packages/PIL/Image.py:1047: UserWarning: Palette images with Transparency expressed in bytes should be converted to RGBA images\n",
            "  warnings.warn(\n"
          ]
        },
        {
          "output_type": "stream",
          "name": "stdout",
          "text": [
            "Val Loss: 4.4244, Val Acc: 0.0286, Val F1: 0.0138\n",
            "Best model updated!\n",
            "\n",
            "Epoch 13/30\n",
            "------------------------------\n",
            "Train Loss: 4.5027, Train Acc: 0.0272\n"
          ]
        },
        {
          "output_type": "stream",
          "name": "stderr",
          "text": [
            "/usr/local/lib/python3.12/dist-packages/PIL/Image.py:1047: UserWarning: Palette images with Transparency expressed in bytes should be converted to RGBA images\n",
            "  warnings.warn(\n"
          ]
        },
        {
          "output_type": "stream",
          "name": "stdout",
          "text": [
            "Val Loss: 4.3516, Val Acc: 0.0319, Val F1: 0.0131\n",
            "\n",
            "Epoch 14/30\n",
            "------------------------------\n"
          ]
        },
        {
          "output_type": "stream",
          "name": "stderr",
          "text": [
            "/usr/local/lib/python3.12/dist-packages/PIL/Image.py:1047: UserWarning: Palette images with Transparency expressed in bytes should be converted to RGBA images\n",
            "  warnings.warn(\n"
          ]
        },
        {
          "output_type": "stream",
          "name": "stdout",
          "text": [
            "Train Loss: 4.4297, Train Acc: 0.0320\n"
          ]
        },
        {
          "output_type": "stream",
          "name": "stderr",
          "text": [
            "/usr/local/lib/python3.12/dist-packages/PIL/Image.py:1047: UserWarning: Palette images with Transparency expressed in bytes should be converted to RGBA images\n",
            "  warnings.warn(\n"
          ]
        },
        {
          "output_type": "stream",
          "name": "stdout",
          "text": [
            "Val Loss: 4.3153, Val Acc: 0.0450, Val F1: 0.0132\n",
            "\n",
            "Epoch 15/30\n",
            "------------------------------\n"
          ]
        },
        {
          "output_type": "stream",
          "name": "stderr",
          "text": [
            "/usr/local/lib/python3.12/dist-packages/PIL/Image.py:1047: UserWarning: Palette images with Transparency expressed in bytes should be converted to RGBA images\n",
            "  warnings.warn(\n"
          ]
        },
        {
          "output_type": "stream",
          "name": "stdout",
          "text": [
            "Train Loss: 4.4328, Train Acc: 0.0291\n"
          ]
        },
        {
          "output_type": "stream",
          "name": "stderr",
          "text": [
            "/usr/local/lib/python3.12/dist-packages/PIL/Image.py:1047: UserWarning: Palette images with Transparency expressed in bytes should be converted to RGBA images\n",
            "  warnings.warn(\n"
          ]
        },
        {
          "output_type": "stream",
          "name": "stdout",
          "text": [
            "Val Loss: 4.2670, Val Acc: 0.0450, Val F1: 0.0160\n",
            "Best model updated!\n",
            "\n",
            "Epoch 16/30\n",
            "------------------------------\n",
            "Train Loss: 4.3772, Train Acc: 0.0358\n"
          ]
        },
        {
          "output_type": "stream",
          "name": "stderr",
          "text": [
            "/usr/local/lib/python3.12/dist-packages/PIL/Image.py:1047: UserWarning: Palette images with Transparency expressed in bytes should be converted to RGBA images\n",
            "  warnings.warn(\n"
          ]
        },
        {
          "output_type": "stream",
          "name": "stdout",
          "text": [
            "Val Loss: 4.2140, Val Acc: 0.0553, Val F1: 0.0247\n",
            "Best model updated!\n",
            "\n",
            "Epoch 17/30\n",
            "------------------------------\n"
          ]
        },
        {
          "output_type": "stream",
          "name": "stderr",
          "text": [
            "/usr/local/lib/python3.12/dist-packages/PIL/Image.py:1047: UserWarning: Palette images with Transparency expressed in bytes should be converted to RGBA images\n",
            "  warnings.warn(\n"
          ]
        },
        {
          "output_type": "stream",
          "name": "stdout",
          "text": [
            "Train Loss: 4.3324, Train Acc: 0.0366\n"
          ]
        },
        {
          "output_type": "stream",
          "name": "stderr",
          "text": [
            "/usr/local/lib/python3.12/dist-packages/PIL/Image.py:1047: UserWarning: Palette images with Transparency expressed in bytes should be converted to RGBA images\n",
            "  warnings.warn(\n"
          ]
        },
        {
          "output_type": "stream",
          "name": "stdout",
          "text": [
            "Val Loss: 4.1899, Val Acc: 0.0568, Val F1: 0.0272\n",
            "Best model updated!\n",
            "\n",
            "Epoch 18/30\n",
            "------------------------------\n",
            "Train Loss: 4.2887, Train Acc: 0.0428\n"
          ]
        },
        {
          "output_type": "stream",
          "name": "stderr",
          "text": [
            "/usr/local/lib/python3.12/dist-packages/PIL/Image.py:1047: UserWarning: Palette images with Transparency expressed in bytes should be converted to RGBA images\n",
            "  warnings.warn(\n"
          ]
        },
        {
          "output_type": "stream",
          "name": "stdout",
          "text": [
            "Val Loss: 4.1157, Val Acc: 0.0783, Val F1: 0.0356\n",
            "Best model updated!\n",
            "\n",
            "Epoch 19/30\n",
            "------------------------------\n"
          ]
        },
        {
          "output_type": "stream",
          "name": "stderr",
          "text": [
            "/usr/local/lib/python3.12/dist-packages/PIL/Image.py:1047: UserWarning: Palette images with Transparency expressed in bytes should be converted to RGBA images\n",
            "  warnings.warn(\n"
          ]
        },
        {
          "output_type": "stream",
          "name": "stdout",
          "text": [
            "Train Loss: 4.2072, Train Acc: 0.0524\n"
          ]
        },
        {
          "output_type": "stream",
          "name": "stderr",
          "text": [
            "/usr/local/lib/python3.12/dist-packages/PIL/Image.py:1047: UserWarning: Palette images with Transparency expressed in bytes should be converted to RGBA images\n",
            "  warnings.warn(\n"
          ]
        },
        {
          "output_type": "stream",
          "name": "stdout",
          "text": [
            "Val Loss: 4.0055, Val Acc: 0.0704, Val F1: 0.0365\n",
            "Best model updated!\n",
            "\n",
            "Epoch 20/30\n",
            "------------------------------\n",
            "Train Loss: 4.1302, Train Acc: 0.0602\n"
          ]
        },
        {
          "output_type": "stream",
          "name": "stderr",
          "text": [
            "/usr/local/lib/python3.12/dist-packages/PIL/Image.py:1047: UserWarning: Palette images with Transparency expressed in bytes should be converted to RGBA images\n",
            "  warnings.warn(\n"
          ]
        },
        {
          "output_type": "stream",
          "name": "stdout",
          "text": [
            "Val Loss: 3.9238, Val Acc: 0.0849, Val F1: 0.0503\n",
            "Best model updated!\n",
            "\n",
            "Epoch 21/30\n",
            "------------------------------\n"
          ]
        },
        {
          "output_type": "stream",
          "name": "stderr",
          "text": [
            "/usr/local/lib/python3.12/dist-packages/PIL/Image.py:1047: UserWarning: Palette images with Transparency expressed in bytes should be converted to RGBA images\n",
            "  warnings.warn(\n"
          ]
        },
        {
          "output_type": "stream",
          "name": "stdout",
          "text": [
            "Train Loss: 4.0508, Train Acc: 0.0699\n"
          ]
        },
        {
          "output_type": "stream",
          "name": "stderr",
          "text": [
            "/usr/local/lib/python3.12/dist-packages/PIL/Image.py:1047: UserWarning: Palette images with Transparency expressed in bytes should be converted to RGBA images\n",
            "  warnings.warn(\n"
          ]
        },
        {
          "output_type": "stream",
          "name": "stdout",
          "text": [
            "Val Loss: 3.8615, Val Acc: 0.0765, Val F1: 0.0479\n",
            "\n",
            "Epoch 22/30\n",
            "------------------------------\n"
          ]
        },
        {
          "output_type": "stream",
          "name": "stderr",
          "text": [
            "/usr/local/lib/python3.12/dist-packages/PIL/Image.py:1047: UserWarning: Palette images with Transparency expressed in bytes should be converted to RGBA images\n",
            "  warnings.warn(\n"
          ]
        },
        {
          "output_type": "stream",
          "name": "stdout",
          "text": [
            "Train Loss: 3.9779, Train Acc: 0.0809\n"
          ]
        },
        {
          "output_type": "stream",
          "name": "stderr",
          "text": [
            "/usr/local/lib/python3.12/dist-packages/PIL/Image.py:1047: UserWarning: Palette images with Transparency expressed in bytes should be converted to RGBA images\n",
            "  warnings.warn(\n"
          ]
        },
        {
          "output_type": "stream",
          "name": "stdout",
          "text": [
            "Val Loss: 3.8030, Val Acc: 0.0957, Val F1: 0.0632\n",
            "Best model updated!\n",
            "\n",
            "Epoch 23/30\n",
            "------------------------------\n",
            "Train Loss: 3.9256, Train Acc: 0.0839\n"
          ]
        },
        {
          "output_type": "stream",
          "name": "stderr",
          "text": [
            "/usr/local/lib/python3.12/dist-packages/PIL/Image.py:1047: UserWarning: Palette images with Transparency expressed in bytes should be converted to RGBA images\n",
            "  warnings.warn(\n"
          ]
        },
        {
          "output_type": "stream",
          "name": "stdout",
          "text": [
            "Val Loss: 3.7660, Val Acc: 0.0990, Val F1: 0.0716\n",
            "Best model updated!\n",
            "\n",
            "Epoch 24/30\n",
            "------------------------------\n"
          ]
        },
        {
          "output_type": "stream",
          "name": "stderr",
          "text": [
            "/usr/local/lib/python3.12/dist-packages/PIL/Image.py:1047: UserWarning: Palette images with Transparency expressed in bytes should be converted to RGBA images\n",
            "  warnings.warn(\n"
          ]
        },
        {
          "output_type": "stream",
          "name": "stdout",
          "text": [
            "Train Loss: 3.8633, Train Acc: 0.0956\n"
          ]
        },
        {
          "output_type": "stream",
          "name": "stderr",
          "text": [
            "/usr/local/lib/python3.12/dist-packages/PIL/Image.py:1047: UserWarning: Palette images with Transparency expressed in bytes should be converted to RGBA images\n",
            "  warnings.warn(\n"
          ]
        },
        {
          "output_type": "stream",
          "name": "stdout",
          "text": [
            "Val Loss: 3.7047, Val Acc: 0.1210, Val F1: 0.0951\n",
            "Best model updated!\n",
            "\n",
            "Epoch 25/30\n",
            "------------------------------\n"
          ]
        },
        {
          "output_type": "stream",
          "name": "stderr",
          "text": [
            "/usr/local/lib/python3.12/dist-packages/PIL/Image.py:1047: UserWarning: Palette images with Transparency expressed in bytes should be converted to RGBA images\n",
            "  warnings.warn(\n"
          ]
        },
        {
          "output_type": "stream",
          "name": "stdout",
          "text": [
            "Train Loss: 3.7762, Train Acc: 0.1139\n"
          ]
        },
        {
          "output_type": "stream",
          "name": "stderr",
          "text": [
            "/usr/local/lib/python3.12/dist-packages/PIL/Image.py:1047: UserWarning: Palette images with Transparency expressed in bytes should be converted to RGBA images\n",
            "  warnings.warn(\n"
          ]
        },
        {
          "output_type": "stream",
          "name": "stdout",
          "text": [
            "Val Loss: 3.6161, Val Acc: 0.1243, Val F1: 0.0986\n",
            "Best model updated!\n",
            "\n",
            "Epoch 26/30\n",
            "------------------------------\n"
          ]
        },
        {
          "output_type": "stream",
          "name": "stderr",
          "text": [
            "/usr/local/lib/python3.12/dist-packages/PIL/Image.py:1047: UserWarning: Palette images with Transparency expressed in bytes should be converted to RGBA images\n",
            "  warnings.warn(\n"
          ]
        },
        {
          "output_type": "stream",
          "name": "stdout",
          "text": [
            "Train Loss: 3.7144, Train Acc: 0.1147\n"
          ]
        },
        {
          "output_type": "stream",
          "name": "stderr",
          "text": [
            "/usr/local/lib/python3.12/dist-packages/PIL/Image.py:1047: UserWarning: Palette images with Transparency expressed in bytes should be converted to RGBA images\n",
            "  warnings.warn(\n"
          ]
        },
        {
          "output_type": "stream",
          "name": "stdout",
          "text": [
            "Val Loss: 3.4993, Val Acc: 0.1773, Val F1: 0.1227\n",
            "Best model updated!\n",
            "\n",
            "Epoch 27/30\n",
            "------------------------------\n"
          ]
        },
        {
          "output_type": "stream",
          "name": "stderr",
          "text": [
            "/usr/local/lib/python3.12/dist-packages/PIL/Image.py:1047: UserWarning: Palette images with Transparency expressed in bytes should be converted to RGBA images\n",
            "  warnings.warn(\n"
          ]
        },
        {
          "output_type": "stream",
          "name": "stdout",
          "text": [
            "Train Loss: 3.6417, Train Acc: 0.1282\n"
          ]
        },
        {
          "output_type": "stream",
          "name": "stderr",
          "text": [
            "/usr/local/lib/python3.12/dist-packages/PIL/Image.py:1047: UserWarning: Palette images with Transparency expressed in bytes should be converted to RGBA images\n",
            "  warnings.warn(\n"
          ]
        },
        {
          "output_type": "stream",
          "name": "stdout",
          "text": [
            "Val Loss: 3.4662, Val Acc: 0.1651, Val F1: 0.1274\n",
            "Best model updated!\n",
            "\n",
            "Epoch 28/30\n",
            "------------------------------\n",
            "Train Loss: 3.5861, Train Acc: 0.1389\n"
          ]
        },
        {
          "output_type": "stream",
          "name": "stderr",
          "text": [
            "/usr/local/lib/python3.12/dist-packages/PIL/Image.py:1047: UserWarning: Palette images with Transparency expressed in bytes should be converted to RGBA images\n",
            "  warnings.warn(\n"
          ]
        },
        {
          "output_type": "stream",
          "name": "stdout",
          "text": [
            "Val Loss: 3.4403, Val Acc: 0.1689, Val F1: 0.1364\n",
            "Best model updated!\n",
            "\n",
            "Epoch 29/30\n",
            "------------------------------\n",
            "Train Loss: 3.5244, Train Acc: 0.1479\n"
          ]
        },
        {
          "output_type": "stream",
          "name": "stderr",
          "text": [
            "/usr/local/lib/python3.12/dist-packages/PIL/Image.py:1047: UserWarning: Palette images with Transparency expressed in bytes should be converted to RGBA images\n",
            "  warnings.warn(\n"
          ]
        },
        {
          "output_type": "stream",
          "name": "stdout",
          "text": [
            "Val Loss: 3.3604, Val Acc: 0.1787, Val F1: 0.1498\n",
            "Best model updated!\n",
            "\n",
            "Epoch 30/30\n",
            "------------------------------\n",
            "Train Loss: 3.4317, Train Acc: 0.1636\n"
          ]
        },
        {
          "output_type": "stream",
          "name": "stderr",
          "text": [
            "/usr/local/lib/python3.12/dist-packages/PIL/Image.py:1047: UserWarning: Palette images with Transparency expressed in bytes should be converted to RGBA images\n",
            "  warnings.warn(\n"
          ]
        },
        {
          "output_type": "stream",
          "name": "stdout",
          "text": [
            "Val Loss: 3.3445, Val Acc: 0.1745, Val F1: 0.1509\n",
            "Best model updated!\n"
          ]
        }
      ]
    },
    {
      "cell_type": "code",
      "source": [
        "torch.save(trained_model.state_dict(), \"alpha.h5\")\n",
        "print(\"Model saved as alpha.h5\")"
      ],
      "metadata": {
        "colab": {
          "base_uri": "https://localhost:8080/"
        },
        "id": "oXkBsKa6auvc",
        "outputId": "7b8d886d-b753-4e69-baf6-3b892aaa0a85"
      },
      "execution_count": 44,
      "outputs": [
        {
          "output_type": "stream",
          "name": "stdout",
          "text": [
            "Model saved as alpha.h5\n"
          ]
        }
      ]
    },
    {
      "cell_type": "code",
      "source": [
        "#For Training More\n",
        "model = DeepCNN(num_classes=150)\n",
        "model.load_state_dict(torch.load(\"alpha.h5\"))\n",
        "model.to(device)\n",
        "model.eval()"
      ],
      "metadata": {
        "id": "UPxT6lrsjYYu"
      },
      "execution_count": null,
      "outputs": []
    },
    {
      "cell_type": "code",
      "source": [
        "import matplotlib.pyplot as plt\n",
        "\n",
        "# Clear figure before plotting\n",
        "plt.clf()  # clears the current figure\n",
        "plt.figure(figsize=(10,5))\n",
        "plt.plot(history[\"train_loss\"], label=\"Train Loss\")\n",
        "plt.plot(history[\"val_loss\"], label=\"Val Loss\")\n",
        "plt.xlabel(\"Epochs\")\n",
        "plt.ylabel(\"Loss\")\n",
        "plt.title(\"Loss vs Epochs\")\n",
        "plt.legend()\n",
        "plt.show()\n",
        "\n",
        "plt.clf()\n",
        "plt.figure(figsize=(10,5))\n",
        "plt.plot(history[\"train_acc\"], label=\"Train Accuracy\")\n",
        "plt.plot(history[\"val_acc\"], label=\"Val Accuracy\")\n",
        "plt.xlabel(\"Epochs\")\n",
        "plt.ylabel(\"Accuracy\")\n",
        "plt.title(\"Accuracy vs Epochs\")\n",
        "plt.legend()\n",
        "plt.show()\n",
        "\n",
        "plt.clf()\n",
        "plt.figure(figsize=(10,5))\n",
        "plt.plot(history[\"val_f1\"], label=\"Validation F1-score\")\n",
        "plt.xlabel(\"Epochs\")\n",
        "plt.ylabel(\"F1-score\")\n",
        "plt.title(\"Validation F1-score vs Epochs\")\n",
        "plt.legend()\n",
        "plt.show()"
      ],
      "metadata": {
        "colab": {
          "base_uri": "https://localhost:8080/",
          "height": 1000
        },
        "id": "jSJx8oGsjeI-",
        "outputId": "3969b09f-7130-4836-dfa9-61adee03fb51"
      },
      "execution_count": 46,
      "outputs": [
        {
          "output_type": "display_data",
          "data": {
            "text/plain": [
              "<Figure size 640x480 with 0 Axes>"
            ]
          },
          "metadata": {}
        },
        {
          "output_type": "display_data",
          "data": {
            "text/plain": [
              "<Figure size 1000x500 with 1 Axes>"
            ],
            "image/png": "[encoded data removed]"
          },
          "metadata": {}
        },
        {
          "output_type": "display_data",
          "data": {
            "text/plain": [
              "<Figure size 640x480 with 0 Axes>"
            ]
          },
          "metadata": {}
        },
        {
          "output_type": "display_data",
          "data": {
            "text/plain": [
              "<Figure size 1000x500 with 1 Axes>"
            ],
            "image/png": "[encoded data removed]"
          },
          "metadata": {}
        },
        {
          "output_type": "display_data",
          "data": {
            "text/plain": [
              "<Figure size 640x480 with 0 Axes>"
            ]
          },
          "metadata": {}
        },
        {
          "output_type": "display_data",
          "data": {
            "text/plain": [
              "<Figure size 1000x500 with 1 Axes>"
            ],
            "image/png": "[encoded data removed]"
          },
          "metadata": {}
        }
      ]
    },
    {
      "cell_type": "code",
      "source": [
        "from sklearn.metrics import accuracy_score, f1_score\n",
        "import warnings\n",
        "warnings.filterwarnings(\"ignore\")\n",
        "\n",
        "trained_model.eval()\n",
        "all_preds = []\n",
        "all_labels = []\n",
        "\n",
        "with torch.no_grad():\n",
        "    for images, labels in test_loader:  # or validation loader\n",
        "        images, labels = images.to(device), labels.to(device)\n",
        "        outputs = trained_model(images)\n",
        "        preds = torch.argmax(outputs, dim=1)\n",
        "        all_preds.extend(preds.cpu().numpy())\n",
        "        all_labels.extend(labels.cpu().numpy())\n",
        "\n",
        "final_acc = accuracy_score(all_labels, all_preds)\n",
        "final_f1 = f1_score(all_labels, all_preds, average=\"macro\")\n",
        "print(f\"Final Accuracy: {final_acc:.4f}\")\n",
        "print(f\"Final Macro F1-score: {final_f1:.4f}\")"
      ],
      "metadata": {
        "colab": {
          "base_uri": "https://localhost:8080/"
        },
        "id": "zh_5eznIjfHd",
        "outputId": "fb123c67-7a36-4a08-e0e4-a66e4835cc49"
      },
      "execution_count": 48,
      "outputs": [
        {
          "output_type": "stream",
          "name": "stdout",
          "text": [
            "Final Accuracy: 0.1745\n",
            "Final Macro F1-score: 0.1509\n"
          ]
        }
      ]
    },
    {
      "cell_type": "code",
      "source": [
        "import matplotlib.pyplot as plt\n",
        "import torchvision.transforms as transforms\n",
        "\n",
        "import warnings\n",
        "warnings.filterwarnings(\"ignore\")\n",
        "\n",
        "# Example: show 8 test images\n",
        "trained_model.eval()\n",
        "test_iter = iter(test_loader)\n",
        "images, labels = next(test_iter)\n",
        "\n",
        "images, labels = images.to(device), labels.to(device)\n",
        "outputs = trained_model(images)\n",
        "preds = torch.argmax(outputs, dim=1)\n",
        "\n",
        "# Convert images to numpy for plotting\n",
        "images = images.cpu().permute(0,2,3,1).numpy()\n",
        "\n",
        "plt.figure(figsize=(15,6))\n",
        "for i in range(3):\n",
        "    plt.subplot(2,4,i+1)\n",
        "    plt.imshow(images[i])\n",
        "    plt.title(f\"Pred: {preds[i].item()}\\nLabel: {labels[i].item()}\")\n",
        "    plt.axis('off')\n",
        "plt.show()"
      ],
      "metadata": {
        "colab": {
          "base_uri": "https://localhost:8080/",
          "height": 362
        },
        "id": "yuYmC01ejtJ9",
        "outputId": "5a6336f0-dad7-4136-f23e-432490cae374"
      },
      "execution_count": 49,
      "outputs": [
        {
          "output_type": "stream",
          "name": "stderr",
          "text": [
            "WARNING:matplotlib.image:Clipping input data to the valid range for imshow with RGB data ([0..1] for floats or [0..255] for integers). Got range [-1.0..1.0].\n",
            "WARNING:matplotlib.image:Clipping input data to the valid range for imshow with RGB data ([0..1] for floats or [0..255] for integers). Got range [-0.94509804..0.94509804].\n",
            "WARNING:matplotlib.image:Clipping input data to the valid range for imshow with RGB data ([0..1] for floats or [0..255] for integers). Got range [-1.0..0.99215686].\n"
          ]
        },
        {
          "output_type": "display_data",
          "data": {
            "text/plain": [
              "<Figure size 1500x600 with 3 Axes>"
            ],
            "image/png": "[encoded data removed]"
          },
          "metadata": {}
        }
      ]
    }
  ]
}